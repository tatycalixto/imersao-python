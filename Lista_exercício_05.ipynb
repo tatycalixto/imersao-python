{
  "nbformat": 4,
  "nbformat_minor": 0,
  "metadata": {
    "colab": {
      "provenance": [],
      "authorship_tag": "ABX9TyNGePYQFernQOz9MrS78fUR",
      "include_colab_link": true
    },
    "kernelspec": {
      "name": "python3",
      "display_name": "Python 3"
    },
    "language_info": {
      "name": "python"
    }
  },
  "cells": [
    {
      "cell_type": "markdown",
      "metadata": {
        "id": "view-in-github",
        "colab_type": "text"
      },
      "source": [
        "<a href=\"https://colab.research.google.com/github/tatycalixto/imersao-python/blob/main/Lista_exerc%C3%ADcio_05.ipynb\" target=\"_parent\"><img src=\"https://colab.research.google.com/assets/colab-badge.svg\" alt=\"Open In Colab\"/></a>"
      ]
    },
    {
      "cell_type": "markdown",
      "source": [
        "# 1. Telefone"
      ],
      "metadata": {
        "id": "GLcfZtljdgsD"
      }
    },
    {
      "cell_type": "code",
      "execution_count": 1,
      "metadata": {
        "colab": {
          "base_uri": "https://localhost:8080/"
        },
        "id": "gTxgr29ddYt5",
        "outputId": "5e306b72-8dc7-4eee-8774-5746187936ba"
      },
      "outputs": [
        {
          "output_type": "stream",
          "name": "stdout",
          "text": [
            "Digite a quantidade de nomes no dicionário: 3\n",
            "Digite o nome do contato: Taty\n",
            "Digite o telefone de contato: 12345678\n",
            "Digite o nome do contato: Maria\n",
            "Digite o telefone de contato: 123409876\n",
            "Digite o nome do contato: José\n",
            "Digite o telefone de contato: 67893456\n",
            "{'Taty': '12345678', 'Maria': '123409876', 'José': '67893456'}\n"
          ]
        }
      ],
      "source": [
        "lista_telefones = {}\n",
        "qtd_lista = int(input(\"Digite a quantidade de nomes no dicionário: \"))\n",
        "\n",
        "for i in range(qtd_lista):\n",
        "  nome = input(\"Digite o nome do contato: \")\n",
        "  telefone = input(\"Digite o telefone de contato: \")\n",
        "  lista_telefones[nome] = telefone\n",
        "print(lista_telefones)"
      ]
    },
    {
      "cell_type": "markdown",
      "source": [
        "#3. Produtos de Informática"
      ],
      "metadata": {
        "id": "KASjhZL-etCb"
      }
    },
    {
      "cell_type": "code",
      "source": [
        "produtos_informatica = (\"Mouse\",30,\"Teclado\",55.50,\"Monitor\",1200)\n",
        "c = 0\n",
        "n = \"\"\n",
        "\n",
        "print(\"Listagem de Preços\\n\")\n",
        "for i in range(len(produtos_informatica)):\n",
        "  if(c != len(produtos_informatica)):\n",
        "    print(produtos_informatica[c],\"R$ %.2f\" %produtos_informatica[c+1])\n",
        "    c+=2\n",
        "\n"
      ],
      "metadata": {
        "colab": {
          "base_uri": "https://localhost:8080/"
        },
        "id": "qbD6XeCFezQF",
        "outputId": "93dd5b71-2776-492f-a70c-867568ee4866"
      },
      "execution_count": 4,
      "outputs": [
        {
          "output_type": "stream",
          "name": "stdout",
          "text": [
            "Listagem de Preços\n",
            "\n",
            "Mouse R$ 30.00\n",
            "Teclado R$ 55.50\n",
            "Monitor R$ 1200.00\n"
          ]
        }
      ]
    },
    {
      "cell_type": "markdown",
      "source": [
        "# 6. Campeonato Pernambucano"
      ],
      "metadata": {
        "id": "bzhtWPPZldDA"
      }
    },
    {
      "cell_type": "code",
      "source": [
        "times = (\"Sport\",\"Retrô\",\"Náutico\",\"Petrolina\",\"Santa Cruz\",\"Salgueiro\",\"Central\",\"Porto\",\"Maguary\",\"Ibis\")\n",
        "\n",
        "for t in range (10):\n",
        "  if t >=0 and t < 3:\n",
        "    print(t+1,\"º\",times[t])\n",
        "  if t >= 6 and t <= 9:\n",
        "    print(t+1,\"º\",times[t])\n",
        "\n",
        "print(\"Times em ordem alfabética: \",sorted(times))\n",
        "\n",
        "for t in range(10):\n",
        "  if times[t] == \"Salgueiro\" in times:\n",
        "    print(\"Posição do Salgueiro é: \",t+1,\"º\")\n",
        "\n",
        "\n"
      ],
      "metadata": {
        "colab": {
          "base_uri": "https://localhost:8080/"
        },
        "id": "Cd1g88avlc5f",
        "outputId": "d2709005-176c-4fcf-af72-b1c1f00a9a69"
      },
      "execution_count": 6,
      "outputs": [
        {
          "output_type": "stream",
          "name": "stdout",
          "text": [
            "1 º Sport\n",
            "2 º Retrô\n",
            "3 º Náutico\n",
            "7 º Central\n",
            "8 º Porto\n",
            "9 º Maguary\n",
            "10 º Ibis\n",
            "Times em ordem alfabética:  ['Central', 'Ibis', 'Maguary', 'Náutico', 'Petrolina', 'Porto', 'Retrô', 'Salgueiro', 'Santa Cruz', 'Sport']\n",
            "Posição do Salgueiro é:  6 º\n"
          ]
        }
      ]
    }
  ]
}