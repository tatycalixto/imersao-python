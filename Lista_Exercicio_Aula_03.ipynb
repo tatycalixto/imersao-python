{
  "nbformat": 4,
  "nbformat_minor": 0,
  "metadata": {
    "colab": {
      "provenance": [],
      "authorship_tag": "ABX9TyPm9R0JH9+393IpZ5e9O17d",
      "include_colab_link": true
    },
    "kernelspec": {
      "name": "python3",
      "display_name": "Python 3"
    },
    "language_info": {
      "name": "python"
    }
  },
  "cells": [
    {
      "cell_type": "markdown",
      "metadata": {
        "id": "view-in-github",
        "colab_type": "text"
      },
      "source": [
        "<a href=\"https://colab.research.google.com/github/tatycalixto/imersao-python/blob/main/Lista_Exercicio_Aula_03.ipynb\" target=\"_parent\"><img src=\"https://colab.research.google.com/assets/colab-badge.svg\" alt=\"Open In Colab\"/></a>"
      ]
    },
    {
      "cell_type": "markdown",
      "source": [
        "#1.Senha\n"
      ],
      "metadata": {
        "id": "98LB55Z_pml8"
      }
    },
    {
      "cell_type": "code",
      "source": [
        "login = input(\"Digite o login: \")\n",
        "senha = input(\"Digite sua senha: \")\n",
        "\n",
        "while(senha == login):\n",
        "  print(\"A sua senha é igual ao seu login, digite a senha novamente.\\n\")\n",
        "  login = input(\"Digite o login: \")\n",
        "  senha = input(\"Digite sua senha: \")\n",
        "print(\"Dados de login cadastrado com sucesso.\")"
      ],
      "metadata": {
        "colab": {
          "base_uri": "https://localhost:8080/"
        },
        "id": "_qBXVJpSpoC0",
        "outputId": "8b7f499c-b64d-4625-c20a-973728c8762c"
      },
      "execution_count": null,
      "outputs": [
        {
          "output_type": "stream",
          "name": "stdout",
          "text": [
            "Digite o login: taty\n",
            "Digite sua senha: 123456\n",
            "Dados de login cadastrado com sucesso.\n"
          ]
        }
      ]
    },
    {
      "cell_type": "markdown",
      "source": [
        "#2.Números ímpares\n"
      ],
      "metadata": {
        "id": "929WHv5zpou0"
      }
    },
    {
      "cell_type": "code",
      "source": [
        "qtd_numeros = 3\n",
        "contador_impar = maior = menor = somar_impares  = 0\n",
        "\n",
        "primeira_vez = True\n",
        "\n",
        "while contador_impar < qtd_numeros:\n",
        "  numero = int(input(\"Digite um número: \"))\n",
        "  if numero % 2 !=0:\n",
        "    contador_impar+=1\n",
        "    somar_impares+=numero\n",
        "    if primeira_vez:\n",
        "      maior = numero\n",
        "      menor = numero\n",
        "      primeira_vez = False\n",
        "    if numero < menor:\n",
        "      menor = numero\n",
        "    if numero > maior:\n",
        "      maior = numero\n",
        "print(\"O menor valor é {}\\n\".format(menor))\n",
        "print(\"O maior valor é {}\\n\".format(maior))\n",
        "print(\"A soma dos Valores é  {}\\n\".format(somar_impares))\n",
        "\n"
      ],
      "metadata": {
        "colab": {
          "base_uri": "https://localhost:8080/"
        },
        "id": "3W7Z_MqhpwXD",
        "outputId": "a08dbbcc-aa72-4c6b-b10d-962a6561f84a"
      },
      "execution_count": null,
      "outputs": [
        {
          "output_type": "stream",
          "name": "stdout",
          "text": [
            "Digite um número: 1\n",
            "Digite um número: 5\n",
            "Digite um número: 2\n",
            "Digite um número: 8\n",
            "Digite um número: 3\n",
            "O menor valor é 1\n",
            "\n",
            "O maior valor é 5\n",
            "\n",
            "A soma dos Valores é  9\n",
            "\n"
          ]
        }
      ]
    },
    {
      "cell_type": "markdown",
      "source": [
        "#3 Validar Dados"
      ],
      "metadata": {
        "id": "SFpbuVQ0pw9M"
      }
    },
    {
      "cell_type": "code",
      "source": [
        "valida_dados = True\n",
        "\n",
        "while valida_dados:\n",
        "  nome = input(\"Digite um nome: \")\n",
        "  idade = int(input(\"Digite a idade: \"))\n",
        "  salario = float(input(\"Digite o salário: \"))\n",
        "  if len(nome) > 3 and (idade >=0 and idade<= 150) and salario > 0:\n",
        "    print(\"Dados Válidos\\n\")\n",
        "    print(\"Nome: \",nome,\"\\n\")\n",
        "    print(\"Idade: \",idade,\"\\n\")\n",
        "    print(\"salario: \",salario,\"\\n\")\n",
        "    valida_dados = False\n",
        "  else:\n",
        "    if len(nome)<= 3:\n",
        "      nome = \"Incorreto\"\n",
        "    if not (idade >=0 and idade<= 150):\n",
        "      idade = str(\"Incorreta\")\n",
        "    if salario <= 0:\n",
        "      salario = str(\"Incorreto\")\n",
        "    print(\"Dados Incorretos\\n\")\n",
        "\n",
        "    print(\"Nome: \",nome,\"\\n\")\n",
        "    print(\"Idade: \",idade,\"\\n\")\n",
        "    print(\"salario: \",salario,\"\\n\")"
      ],
      "metadata": {
        "colab": {
          "base_uri": "https://localhost:8080/"
        },
        "id": "KHXQ-PnYpzv0",
        "outputId": "3be2421c-f983-458a-a3a2-8d0cb508272f"
      },
      "execution_count": null,
      "outputs": [
        {
          "output_type": "stream",
          "name": "stdout",
          "text": [
            "Digite um nome: Taty\n",
            "Digite a idade: 160\n",
            "Digite o salário: 10000\n",
            "Dados Incorretos\n",
            "\n",
            "Nome:  Taty \n",
            "\n",
            "Idade:  Incorreta \n",
            "\n",
            "salario:  10000.0 \n",
            "\n",
            "Digite um nome: Taty\n",
            "Digite a idade: 36\n",
            "Digite o salário: 0\n",
            "Dados Incorretos\n",
            "\n",
            "Nome:  Taty \n",
            "\n",
            "Idade:  36 \n",
            "\n",
            "salario:  Incorreto \n",
            "\n",
            "Digite um nome: Tat\n",
            "Digite a idade: 36\n",
            "Digite o salário: 1000\n",
            "Dados Incorretos\n",
            "\n",
            "Nome:  Incorreto \n",
            "\n",
            "Idade:  36 \n",
            "\n",
            "salario:  1000.0 \n",
            "\n",
            "Digite um nome: Taty\n",
            "Digite a idade: 36\n",
            "Digite o salário: 1000\n",
            "Dados Válidos\n",
            "\n",
            "Nome:  Taty \n",
            "\n",
            "Idade:  36 \n",
            "\n",
            "salario:  1000.0 \n",
            "\n"
          ]
        }
      ]
    },
    {
      "cell_type": "markdown",
      "source": [
        "#4. Maior Número"
      ],
      "metadata": {
        "id": "M7vsw0ARp0QT"
      }
    },
    {
      "cell_type": "code",
      "source": [
        "maior  = 0\n",
        "primeira_vez = True\n",
        "\n",
        "for i in range(5):\n",
        "  numero = int(input(\"Digite um número: \"))\n",
        "  if primeira_vez:\n",
        "    maior = numero\n",
        "    primeira_vez = False\n",
        "  if numero > maior:\n",
        "    maior = numero\n",
        "print(\"O maior valor é {}\\n\".format(maior))\n",
        "\n"
      ],
      "metadata": {
        "colab": {
          "base_uri": "https://localhost:8080/"
        },
        "id": "GFkEaGeqp9dF",
        "outputId": "011e359b-8e8e-4171-a9c7-e5474e060bb3"
      },
      "execution_count": null,
      "outputs": [
        {
          "output_type": "stream",
          "name": "stdout",
          "text": [
            "Digite um número: 5\n",
            "Digite um número: 100\n",
            "Digite um número: 3\n",
            "Digite um número: 56\n",
            "Digite um número: 23\n",
            "O maior valor é 100\n",
            "\n"
          ]
        }
      ]
    },
    {
      "cell_type": "markdown",
      "source": [
        "#5. Média e Soma de Números"
      ],
      "metadata": {
        "id": "5QX4_l62p95N"
      }
    },
    {
      "cell_type": "code",
      "source": [
        "maior = menor = soma_numeros  = 0\n",
        "\n",
        "\n",
        "for i in range(5):\n",
        "  numero = int(input(\"Digite um número: \"))\n",
        "  soma_numeros+=numero\n",
        "media = soma_numeros/5\n",
        "print(\"A soma dos núméros é {} a média dos números é {}\".format(soma_numeros,media))\n"
      ],
      "metadata": {
        "colab": {
          "base_uri": "https://localhost:8080/"
        },
        "id": "k8-EnaeVqA1U",
        "outputId": "65daca94-a83e-459a-8421-d16389fe51df"
      },
      "execution_count": null,
      "outputs": [
        {
          "output_type": "stream",
          "name": "stdout",
          "text": [
            "Digite um número: 1\n",
            "Digite um número: 2\n",
            "Digite um número: 3\n",
            "Digite um número: 4\n",
            "Digite um número: 5\n",
            "A soma dos núméros é 15 a média dos números é 3.0\n"
          ]
        }
      ]
    },
    {
      "cell_type": "markdown",
      "source": [
        "#6. Números Ímpares"
      ],
      "metadata": {
        "id": "A1sEqzdEqBeU"
      }
    },
    {
      "cell_type": "code",
      "source": [
        "for i in range (1,51):\n",
        "  if i % 2!=0:\n",
        "    print(i)"
      ],
      "metadata": {
        "colab": {
          "base_uri": "https://localhost:8080/"
        },
        "id": "mrrVnRaAqHfs",
        "outputId": "f10d4b8c-7521-4c31-d973-2051062faba0"
      },
      "execution_count": null,
      "outputs": [
        {
          "output_type": "stream",
          "name": "stdout",
          "text": [
            "1\n",
            "3\n",
            "5\n",
            "7\n",
            "9\n",
            "11\n",
            "13\n",
            "15\n",
            "17\n",
            "19\n",
            "21\n",
            "23\n",
            "25\n",
            "27\n",
            "29\n",
            "31\n",
            "33\n",
            "35\n",
            "37\n",
            "39\n",
            "41\n",
            "43\n",
            "45\n",
            "47\n",
            "49\n"
          ]
        }
      ]
    },
    {
      "cell_type": "markdown",
      "source": [
        "#7. Tabuada"
      ],
      "metadata": {
        "id": "Gb_EL-3jqKRk"
      }
    },
    {
      "cell_type": "code",
      "source": [
        "tabuada = int(input(\"Digite o número para tabuada: \"))\n",
        "for i in range (1,11):\n",
        "  print(\"{} x {} = {}\".format(tabuada,i,i*tabuada))\n"
      ],
      "metadata": {
        "colab": {
          "base_uri": "https://localhost:8080/"
        },
        "id": "Zd4MqhE7qTVM",
        "outputId": "a29ae38d-bf8b-4888-9e1e-4b35507364c5"
      },
      "execution_count": null,
      "outputs": [
        {
          "output_type": "stream",
          "name": "stdout",
          "text": [
            "Digite o número para tabuada: 2\n",
            "2 x 1 = 2\n",
            "2 x 2 = 4\n",
            "2 x 3 = 6\n",
            "2 x 4 = 8\n",
            "2 x 5 = 10\n",
            "2 x 6 = 12\n",
            "2 x 7 = 14\n",
            "2 x 8 = 16\n",
            "2 x 9 = 18\n",
            "2 x 10 = 20\n"
          ]
        }
      ]
    },
    {
      "cell_type": "markdown",
      "source": [
        "#8.Gabarito da Prova"
      ],
      "metadata": {
        "id": "N7biMGt-qUXk"
      }
    },
    {
      "cell_type": "code",
      "source": [
        "gabarito = ['A','B','C','D','E','E','D','C','B','A']\n",
        "nome = []\n",
        "gabarito_aluno = ''\n",
        "maior_acerto = []\n",
        "menor_acerto = []\n",
        "qtd_aluno = acertou = errou = soma = 0\n",
        "\n",
        "#Maior e Menor Acerto;\n",
        "#Total de Alunos que utilizaram o sistema;\n",
        "#A Média das Notas da Turma\n",
        "adicionar_aluno = True\n",
        "while adicionar_aluno:\n",
        "  #nome.append(input(\"Digite o nome: \"))\n",
        "  for i in range (0,10):\n",
        "    gabarito_aluno = input(\"Digite o gabarito da prova: \")\n",
        "    gabarito_aluno = gabarito_aluno.upper()\n",
        "    if gabarito_aluno == gabarito[i]:\n",
        "      acertou+=1\n",
        "      \n",
        "    else:\n",
        "      errou+=1\n",
        "     \n",
        "  maior_acerto.append(acertou)  \n",
        "  menor_acerto.append(errou) \n",
        "  print(menor_acerto)\n",
        "  qtd_aluno+=1\n",
        "  pergunta = input(\"Você deseja continuar? \")\n",
        "\n",
        "  if pergunta =='N':\n",
        "    adicionar_aluno = False\n",
        "  else:\n",
        "    acertou = 0\n",
        "    errou = 0\n",
        "    gabarito_aluno = ''\n",
        "\n",
        "for i in range (0,qtd_aluno):\n",
        "  soma+= maior_acerto[i]\n",
        "media = soma/qtd_aluno\n",
        "\n",
        "\n",
        "print(\"Maior acerto\", max(maior_acerto),\"\\n\")\n",
        "print(\"Menor acerto\", max(menor_acerto),\"\\n\")\n",
        "print(\"Quantidade alunos\", qtd_aluno,\"\\n\")\n",
        "print(\"Média da Turma:{} \".format(media),\"\\n\")\n",
        "  \n",
        "\n",
        "\n",
        "\n",
        "\n"
      ],
      "metadata": {
        "colab": {
          "base_uri": "https://localhost:8080/"
        },
        "id": "RzNc_Ad-qXq8",
        "outputId": "c40b4a46-8ee9-40b9-b95c-afc571b8df4f"
      },
      "execution_count": 7,
      "outputs": [
        {
          "output_type": "stream",
          "name": "stdout",
          "text": [
            "Digite o gabarito da prova: a\n",
            "Digite o gabarito da prova: b\n",
            "Digite o gabarito da prova: c\n",
            "Digite o gabarito da prova: d\n",
            "Digite o gabarito da prova: e\n",
            "Digite o gabarito da prova: e\n",
            "Digite o gabarito da prova: d\n",
            "Digite o gabarito da prova: c\n",
            "Digite o gabarito da prova: b\n",
            "Digite o gabarito da prova: a\n",
            "[0]\n",
            "Você deseja continuar? S\n",
            "Digite o gabarito da prova: a\n",
            "Digite o gabarito da prova: b\n",
            "Digite o gabarito da prova: c\n",
            "Digite o gabarito da prova: d\n",
            "Digite o gabarito da prova: e\n",
            "Digite o gabarito da prova: e\n",
            "Digite o gabarito da prova: c\n",
            "Digite o gabarito da prova: d\n",
            "Digite o gabarito da prova: a\n",
            "Digite o gabarito da prova: b\n",
            "[0, 4]\n",
            "Você deseja continuar? N\n",
            "Maior acerto 10 \n",
            "\n",
            "Menor acerto 4 \n",
            "\n",
            "Quantidade alunos 2 \n",
            "\n",
            "Média da Turma:8.0  \n",
            "\n"
          ]
        }
      ]
    },
    {
      "cell_type": "code",
      "source": [],
      "metadata": {
        "id": "gc35xfQr8P5q"
      },
      "execution_count": null,
      "outputs": []
    },
    {
      "cell_type": "markdown",
      "source": [
        "#9.Competição de ginástica"
      ],
      "metadata": {
        "id": "pkpR-yaYqZbk"
      }
    },
    {
      "cell_type": "code",
      "source": [
        "from pickle import TRUE\n",
        "nome_atleta = input(\"Digite o nome do atleta: \")\n",
        "notas = []\n",
        "min = max = soma = cont = 0\n",
        "primeira = True\n",
        " \n",
        "for i in range(7):\n",
        "  nota = float(input(\"Digite uma nota: \"))\n",
        "  notas.append(nota)\n",
        "for i in range(7):\n",
        "  print(\"Nota \", notas[i])\n",
        "  if primeira:\n",
        "    max = notas[i]\n",
        "    min = notas[i]\n",
        "    primeira = False\n",
        "  if notas[i] < min:\n",
        "    min = notas[i]\n",
        "  if notas[i] > max:\n",
        "    max = notas[i]\n",
        "\n",
        "print(\"Resultado Final:\\n\")\n",
        "print(\"Atleta: \",nome_atleta,\"\\n\")\n",
        "print(\"Melhor Nota: \", max,\"\\n\")\n",
        "print(\"Pior Nota: \",min,\"\\n\")\n",
        "notas.remove(max)\n",
        "notas.remove(min)\n",
        "media = sum(notas) / len(notas)\n",
        "print(\"Média: %.2f\"%media,\"\\n\")\n",
        "\n",
        "\n"
      ],
      "metadata": {
        "id": "84NjgBDXqelc",
        "colab": {
          "base_uri": "https://localhost:8080/"
        },
        "outputId": "141d161c-c725-4ba0-ae07-214a9105849c"
      },
      "execution_count": 20,
      "outputs": [
        {
          "output_type": "stream",
          "name": "stdout",
          "text": [
            "Digite o nome do atleta: Aparecido\n",
            "Digite uma nota: 9.9\n",
            "Digite uma nota: 7.5\n",
            "Digite uma nota: 9.5\n",
            "Digite uma nota: 8.5\n",
            "Digite uma nota: 9.0\n",
            "Digite uma nota: 8.5\n",
            "Digite uma nota: 9.7\n",
            "Nota  9.9\n",
            "Nota  7.5\n",
            "Nota  9.5\n",
            "Nota  8.5\n",
            "Nota  9.0\n",
            "Nota  8.5\n",
            "Nota  9.7\n",
            "Resultado Final:\n",
            "\n",
            "Atleta:  Aparecido \n",
            "\n",
            "Melhor Nota:  9.9 \n",
            "\n",
            "Pior Nota:  7.5 \n",
            "\n",
            "Média: 9.04 \n",
            "\n"
          ]
        }
      ]
    },
    {
      "cell_type": "markdown",
      "source": [
        "#10.Sair com os amigos"
      ],
      "metadata": {
        "id": "lr7Cs4hQqfTE"
      }
    },
    {
      "cell_type": "code",
      "source": [],
      "metadata": {
        "id": "I4hfnkuYqjp0"
      },
      "execution_count": 12,
      "outputs": []
    }
  ]
}