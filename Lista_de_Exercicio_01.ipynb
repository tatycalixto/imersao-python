{
  "nbformat": 4,
  "nbformat_minor": 0,
  "metadata": {
    "colab": {
      "provenance": [],
      "authorship_tag": "ABX9TyO6P37IORxhq39pzFu2S/Jz",
      "include_colab_link": true
    },
    "kernelspec": {
      "name": "python3",
      "display_name": "Python 3"
    },
    "language_info": {
      "name": "python"
    }
  },
  "cells": [
    {
      "cell_type": "markdown",
      "metadata": {
        "id": "view-in-github",
        "colab_type": "text"
      },
      "source": [
        "<a href=\"https://colab.research.google.com/github/tatycalixto/imersao-python/blob/main/Lista_de_Exercicio_01.ipynb\" target=\"_parent\"><img src=\"https://colab.research.google.com/assets/colab-badge.svg\" alt=\"Open In Colab\"/></a>"
      ]
    },
    {
      "cell_type": "markdown",
      "source": [
        "#1. Converter Metros em Centímetros\n"
      ],
      "metadata": {
        "id": "IhxfcHYB6mp6"
      }
    },
    {
      "cell_type": "code",
      "source": [
        "metros = float(input(\"Digite um valor em metros:\\n\"))\n",
        "centimetros = metros * 100\n",
        "print(centimetros,\" centímetros\")"
      ],
      "metadata": {
        "colab": {
          "base_uri": "https://localhost:8080/"
        },
        "id": "Yh2Wro3y624Q",
        "outputId": "cebbcf61-ac1e-41a4-f07e-6721c6403af5"
      },
      "execution_count": 42,
      "outputs": [
        {
          "output_type": "stream",
          "name": "stdout",
          "text": [
            "Digite um valor em metros:\n",
            "1\n",
            "100.0  centímetros\n"
          ]
        }
      ]
    },
    {
      "cell_type": "markdown",
      "source": [
        "#2. Soma Simples"
      ],
      "metadata": {
        "id": "1tJp1_cC63gm"
      }
    },
    {
      "cell_type": "code",
      "source": [
        "a = int(input(\"Digite um valor para a variável a \"))\n",
        "b = int(input(\"Digite um valor para a variável b \"))\n",
        "soma = a + b\n",
        "print(\"SOMA = \",soma)"
      ],
      "metadata": {
        "colab": {
          "base_uri": "https://localhost:8080/"
        },
        "id": "2stosNtQ671O",
        "outputId": "853ee1d7-20aa-4e5b-d7ad-dc1c2db5ede1"
      },
      "execution_count": 43,
      "outputs": [
        {
          "output_type": "stream",
          "name": "stdout",
          "text": [
            "Digite um valor para a variável a 2\n",
            "Digite um valor para a variável b 3\n",
            "SOMA =  5\n"
          ]
        }
      ]
    },
    {
      "cell_type": "markdown",
      "source": [
        "#3. Nota "
      ],
      "metadata": {
        "id": "tKHD0ZqV6-hG"
      }
    },
    {
      "cell_type": "code",
      "source": [
        "nota1 = float(input(\"Digite a nota1: \"))\n",
        "nota2 = float(input(\"Digite a nota2: \"))\n",
        "nota3 = float(input(\"Digite a nota3: \"))\n",
        "nota4 = float(input(\"Digite a nota4: \"))\n",
        "\n",
        "media = (nota1 + nota2+ nota3+ nota4)/4\n",
        "print(\"MÉDIA = \",media)"
      ],
      "metadata": {
        "colab": {
          "base_uri": "https://localhost:8080/"
        },
        "id": "idQ_7vDh7DId",
        "outputId": "afeb101f-772a-4e59-8e77-5df64de1ab36"
      },
      "execution_count": 44,
      "outputs": [
        {
          "output_type": "stream",
          "name": "stdout",
          "text": [
            "Digite a nota1: 5\n",
            "Digite a nota2: 7.1\n",
            "Digite a nota3: 8.5\n",
            "Digite a nota4: 9.4\n",
            "MÉDIA =  7.5\n"
          ]
        }
      ]
    },
    {
      "cell_type": "markdown",
      "source": [
        "#4. Salário "
      ],
      "metadata": {
        "id": "Pa8yan0N7DdV"
      }
    },
    {
      "cell_type": "code",
      "source": [
        "nome = input(\"Digite seu nome: \")\n",
        "horas_trabalhadas = int(input(\"Digite as horas trabalhadas \"))\n",
        "valor_hora =  float(input(\"Digite os valor das horas trabalhadas \"))\n",
        "print(\"Nome: \",nome,\"\\nSalário = R$ \", horas_trabalhadas*valor_hora)"
      ],
      "metadata": {
        "colab": {
          "base_uri": "https://localhost:8080/"
        },
        "id": "X1aUVOhE7jbc",
        "outputId": "68a34712-6a11-4c76-8a69-59e97939ad62"
      },
      "execution_count": 46,
      "outputs": [
        {
          "output_type": "stream",
          "name": "stdout",
          "text": [
            "Digite seu nome: Taty\n",
            "Digite as horas trabalhadas 100\n",
            "Digite os valor das horas trabalhadas 5.50\n",
            "Nome:  Taty \n",
            "Salário = R$  550.0\n"
          ]
        }
      ]
    },
    {
      "cell_type": "markdown",
      "source": [
        "#5. Média 2"
      ],
      "metadata": {
        "id": "XiWYlUbV7nvz"
      }
    },
    {
      "cell_type": "code",
      "source": [
        "nota1=float(input(\"nota 1 \"))\n",
        "nota2=float(input(\"nota 2 \"))\n",
        "nota3=float(input(\"nota 3 \"))\n",
        "media = (nota1 * 2 + nota2 * 3 + nota3 * 5) / 10\n",
        "print(\"MÉDIA = \",media)"
      ],
      "metadata": {
        "colab": {
          "base_uri": "https://localhost:8080/"
        },
        "id": "89hyh-tB7qFM",
        "outputId": "d769668d-8f8d-4ae6-981b-f64c55231cea"
      },
      "execution_count": 61,
      "outputs": [
        {
          "output_type": "stream",
          "name": "stdout",
          "text": [
            "nota 1 10\n",
            "nota 2 10\n",
            "nota 3 10\n",
            "MÉDIA =  10.0\n"
          ]
        }
      ]
    },
    {
      "cell_type": "markdown",
      "source": [
        "#6. Salário com Bônus"
      ],
      "metadata": {
        "id": "vnbieDxW701E"
      }
    },
    {
      "cell_type": "code",
      "source": [
        "nome = input(\"Digite do nome do vendedor: \")\n",
        "salario_fixo = float(input(\"Digite o salário fixo: \"))\n",
        "total_vendas = float(input(\"Digite o total de vendas: \"))\n",
        "salario_final = salario_fixo + (total_vendas * 0.15)\n",
        "print(\"TOTAL = R$ \",\"%.2f\"%salario_final)"
      ],
      "metadata": {
        "colab": {
          "base_uri": "https://localhost:8080/"
        },
        "id": "hpA8DEQL75VV",
        "outputId": "24acf71e-e925-48f9-d514-bf79bdd2ea06"
      },
      "execution_count": 47,
      "outputs": [
        {
          "output_type": "stream",
          "name": "stdout",
          "text": [
            "Digite do nome do vendedor: Taty\n",
            "Digite o salário fixo: 500\n",
            "Digite o total de vendas: 1230.30\n",
            "TOTAL = R$  684.54\n"
          ]
        }
      ]
    },
    {
      "cell_type": "markdown",
      "source": [
        "#7. Jogo de Xadrez"
      ],
      "metadata": {
        "id": "eMjg0gOD771V"
      }
    },
    {
      "cell_type": "code",
      "source": [
        "hora_inicio = int(input (\"Digite a hora do início do jogo de xadrez: \"))\n",
        "hora_fim = int(input (\"Digite a hora do final do jogo de xadrez: \"))\n",
        "\n",
        "if hora_fim > hora_inicio:\n",
        "  total = hora_fim - hora_inicio\n",
        "elif hora_fim < hora_inicio:\n",
        "  total = (24 - hora_inicio) + hora_fim\n",
        "else:\n",
        "  total = 24\n",
        "print(\"Jogo com\",total,\" de duração\")"
      ],
      "metadata": {
        "colab": {
          "base_uri": "https://localhost:8080/"
        },
        "id": "EetDmRjO7-5v",
        "outputId": "dd4b951d-847a-4c9f-e1bd-872e12f69136"
      },
      "execution_count": 58,
      "outputs": [
        {
          "output_type": "stream",
          "name": "stdout",
          "text": [
            "Digite a hora do início do jogo de xadrez: 12\n",
            "Digite a hora do final do jogo de xadrez: 12\n",
            "Jogo com 24  de duração\n"
          ]
        }
      ]
    },
    {
      "cell_type": "markdown",
      "source": [
        "#8. Conversão de Tempo"
      ],
      "metadata": {
        "id": "DDMwzFOe8FQb"
      }
    },
    {
      "cell_type": "code",
      "source": [
        "import math\n",
        "\n",
        "valor = int(input(\"Digite o valor em segundos \"))\n",
        "r_divisao = valor % 3600\n",
        "horas = valor/3600\n",
        "minutos = r_divisao/60\n",
        "segundos = valor % 60\n",
        "print(math.floor(horas),\":\",math.floor(minutos),\":\",math.floor(segundos))"
      ],
      "metadata": {
        "colab": {
          "base_uri": "https://localhost:8080/"
        },
        "id": "pM0m8ZDr8Iqc",
        "outputId": "1ce98fd8-857b-4057-9c78-80f5d4187043"
      },
      "execution_count": 57,
      "outputs": [
        {
          "output_type": "stream",
          "name": "stdout",
          "text": [
            "Digite o valor em segundos 7300\n",
            "2 : 1 : 40\n"
          ]
        }
      ]
    },
    {
      "cell_type": "markdown",
      "source": [
        "#9. Nota Conceito"
      ],
      "metadata": {
        "id": "giqLfE7V8SS1"
      }
    },
    {
      "cell_type": "code",
      "source": [
        "nota1 = float(input(\"Digite nota1: \"))\n",
        "nota2 = float(input(\"Digite nota2: \"))\n",
        "media = (nota1+nota2)/2\n",
        "if (media >= 9) & (media <= 10):\n",
        "  print(\"Conceito A\")\n",
        "if (media >= 7.5) & (media <= 9):\n",
        "  print(\"Conceito B\")\n",
        "if (media >= 6) & (media <= 7):\n",
        "  print(\"Conceito C\")\n",
        "if (media >= 4) & (media < 6):\n",
        "  print(\"Conceito D\")\n",
        "if (media < 4):\n",
        "  print(\"Conceito E\")"
      ],
      "metadata": {
        "colab": {
          "base_uri": "https://localhost:8080/"
        },
        "id": "qu9Al7I-8Vb8",
        "outputId": "af4db9dd-2f12-4bb2-a640-abe7ff4ce1b4"
      },
      "execution_count": 64,
      "outputs": [
        {
          "output_type": "stream",
          "name": "stdout",
          "text": [
            "Digite nota1: 3\n",
            "Digite nota2: 0\n",
            "Conceito E\n"
          ]
        }
      ]
    },
    {
      "cell_type": "markdown",
      "source": [
        "#10. Jogo da Forca"
      ],
      "metadata": {
        "id": "WO-XhyA-8lhF"
      }
    },
    {
      "cell_type": "code",
      "source": [
        "#estruturas de repetição"
      ],
      "metadata": {
        "id": "09opBqWl8pG2"
      },
      "execution_count": null,
      "outputs": []
    }
  ]
}