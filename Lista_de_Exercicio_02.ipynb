{
  "nbformat": 4,
  "nbformat_minor": 0,
  "metadata": {
    "colab": {
      "provenance": [],
      "authorship_tag": "ABX9TyOhxoypwzRVr4GHORbu0o5G",
      "include_colab_link": true
    },
    "kernelspec": {
      "name": "python3",
      "display_name": "Python 3"
    },
    "language_info": {
      "name": "python"
    }
  },
  "cells": [
    {
      "cell_type": "markdown",
      "metadata": {
        "id": "view-in-github",
        "colab_type": "text"
      },
      "source": [
        "<a href=\"https://colab.research.google.com/github/tatycalixto/imersao-python/blob/main/Lista_de_Exercicio_02.ipynb\" target=\"_parent\"><img src=\"https://colab.research.google.com/assets/colab-badge.svg\" alt=\"Open In Colab\"/></a>"
      ]
    },
    {
      "cell_type": "markdown",
      "source": [
        "# 1. Temperatura Fahrenheit "
      ],
      "metadata": {
        "id": "cXStvQZmdSo0"
      }
    },
    {
      "cell_type": "code",
      "execution_count": null,
      "metadata": {
        "colab": {
          "base_uri": "https://localhost:8080/"
        },
        "id": "nAjCPZTBS7Rn",
        "outputId": "67755f3e-32c8-4806-aa3b-8d75aafbc2e5"
      },
      "outputs": [
        {
          "output_type": "stream",
          "name": "stdout",
          "text": [
            "Digite um valor: 73.4\n",
            "23.0 ºC\n"
          ]
        }
      ],
      "source": [
        "f = float(input(\"Digite um valor: \"))\n",
        "c = (f-32) * (5/9)\n",
        "\n",
        "print(\"%.1f\"%c,\"ºC\")\n"
      ]
    },
    {
      "cell_type": "markdown",
      "source": [
        "#2. Dominó"
      ],
      "metadata": {
        "id": "s9Q_GyP0ePb9"
      }
    },
    {
      "cell_type": "markdown",
      "source": [],
      "metadata": {
        "id": "8iRWpAVTdRK0"
      }
    },
    {
      "cell_type": "code",
      "source": [
        "j1 = int(input(\"Digite o valor da sua pedra de dominó: \"))\n",
        "j2 = int(input(\"Digite o valor da sua pedra de dominó: \"))\n",
        "j3 = int(input(\"Digite o valor da sua pedra de dominó: \"))\n",
        "j4 = int(input(\"Digite o valor da sua pedra de dominó: \"))\n",
        "\n",
        "if j1 < j2 and j1 < j3 and j1 < j4:\n",
        "  print(\"Jogador(a) 1 venceu com \",j1, \" ponto(s)\") \n",
        "elif j2 < j1 and j2 < j3 and j2 < j4:\n",
        "  print(\"Jogador(a) 2 venceu com \",j2, \" ponto(s)\") \n",
        "elif j3 < j1 and j3 < j2 and j3 < j4:\n",
        "  print(\"Jogador(a) 3 venceu com \",j3, \" ponto(s)\") \n",
        "else:\n",
        "  print(\"Jogador(a) 4 venceu com \",j4, \" ponto(s)\") \n",
        "\n"
      ],
      "metadata": {
        "colab": {
          "base_uri": "https://localhost:8080/"
        },
        "id": "6dXQb2vneUfj",
        "outputId": "a52ebe25-1434-4334-83ff-25b75b4d9b2d"
      },
      "execution_count": null,
      "outputs": [
        {
          "output_type": "stream",
          "name": "stdout",
          "text": [
            "Digite o valor da sua pedra de dominó: 6\n",
            "Digite o valor da sua pedra de dominó: 2\n",
            "Digite o valor da sua pedra de dominó: 3\n",
            "Digite o valor da sua pedra de dominó: 1\n",
            "Jogador(a) 4 venceu com  1  ponto(s)\n"
          ]
        }
      ]
    },
    {
      "cell_type": "markdown",
      "source": [],
      "metadata": {
        "id": "kNRc0sGKgX_T"
      }
    },
    {
      "cell_type": "markdown",
      "source": [
        "#3. DC x Marvel"
      ],
      "metadata": {
        "id": "CMWjkUpQgqts"
      }
    },
    {
      "cell_type": "code",
      "source": [
        "dc = marvel = 0\n",
        "p1 = input(\"Digite seu favorito: DC ou Marvel: \")\n",
        "p2 = input(\"Digite seu favorito: DC ou Marvel: \")\n",
        "p3 = input(\"Digite seu favorito: DC ou Marvel: \")\n",
        "p4 = input(\"Digite seu favorito: DC ou Marvel: \")\n",
        "p5 = input(\"Digite seu favorito: DC ou Marvel: \")\n",
        "\n",
        "if p1.upper() == 'DC':\n",
        "  dc = dc + 1 #dc+=1\n",
        "else:\n",
        "  marvel = marvel + 1 #marvel+=1\n",
        "\n",
        "if p2.upper() == 'DC':\n",
        "  dc = dc + 1 #dc+=1\n",
        "else:\n",
        "  marvel = marvel + 1 #marvel+=1\n",
        "\n",
        "if p3.upper() == 'DC':\n",
        "  dc = dc + 1 #dc+=1\n",
        "else:\n",
        "  marvel = marvel + 1 #marvel+=1\n",
        "\n",
        "if p4.upper() == 'DC':\n",
        "  dc = dc + 1 #dc+=1\n",
        "else:\n",
        "  marvel = marvel + 1 #marvel+=1\n",
        "\n",
        "if p5.upper() == 'DC':\n",
        "  dc = dc + 1 #dc+=1\n",
        "else:\n",
        "  marvel = marvel + 1 #marvel+=1\n",
        "\n",
        "print(dc*100/5,\"% preferem DC\\n\")\n",
        "print(marvel*100/5,\"% preferem marvel\")\n",
        "\n",
        "\n",
        "\n",
        "\n",
        "\n",
        "\n",
        "  \n",
        "\n"
      ],
      "metadata": {
        "colab": {
          "base_uri": "https://localhost:8080/"
        },
        "id": "tIW5cxBwgxKC",
        "outputId": "12a41af3-1bcb-45fd-fcf1-3633158ccc7d"
      },
      "execution_count": null,
      "outputs": [
        {
          "output_type": "stream",
          "name": "stdout",
          "text": [
            "Digite seu favorito: DC ou Marvel: dc\n",
            "Digite seu favorito: DC ou Marvel: dc\n",
            "Digite seu favorito: DC ou Marvel: dc\n",
            "Digite seu favorito: DC ou Marvel: marvel\n",
            "Digite seu favorito: DC ou Marvel: marvel\n",
            "60.0  % preferem DC\n",
            "\n",
            "40.0  % preferem marvel\n"
          ]
        }
      ]
    },
    {
      "cell_type": "markdown",
      "source": [
        "#4. Triângulo"
      ],
      "metadata": {
        "id": "csh88xsMlmGJ"
      }
    },
    {
      "cell_type": "code",
      "source": [
        "lado1 = int(input(\"Digite o lado1 \"))\n",
        "lado2 = int(input(\"Digite o lado2 \"))\n",
        "lado3 = int(input(\"Digite o lado3 \"))\n",
        "\n",
        "if lado1 < lado2 + lado3 and lado2 < lado1 + lado3 and lado3 < lado1 + lado2:\n",
        "  if lado1 == lado2 and lado1 == lado3 and lado2 == lado3: \n",
        "    print(\"Triângulo Equilátero\")\n",
        "  elif lado1 == lado2 or lado1 == lado3 or lado2 == lado3:\n",
        "    print(\"Triângulo Isóscele\")\n",
        "  else:\n",
        "     print(\"Triângulo Escaleno\")\n",
        "else:\n",
        "  print(\"Triângulo Inválido\")"
      ],
      "metadata": {
        "colab": {
          "base_uri": "https://localhost:8080/"
        },
        "id": "2zBuon-ulq9b",
        "outputId": "5c8243b0-d387-4561-c57d-dbe7779dae9a"
      },
      "execution_count": null,
      "outputs": [
        {
          "output_type": "stream",
          "name": "stdout",
          "text": [
            "Digite o lado1 3\n",
            "Digite o lado2 2\n",
            "Digite o lado3 4\n",
            "Triângulo Escaleno\n"
          ]
        }
      ]
    },
    {
      "cell_type": "markdown",
      "source": [
        "#5. Dia da Semana"
      ],
      "metadata": {
        "id": "H-8pWKZLoeHn"
      }
    },
    {
      "cell_type": "code",
      "source": [
        "import calendar\n",
        "\n",
        "dia = int(input(\"Digite o dia: \"))\n",
        "mes = int(input(\"Digite o mês: \"))\n",
        "ano = int(input(\"Digite o ano: \"))\n",
        "\n",
        "dia_semana = calendar.weekday(ano,mes,dia)\n",
        "\n",
        "if dia_semana == 0:\n",
        "  print(\"Segunda-Feira\")\n",
        "elif dia_semana == 1:\n",
        "  print(\"Terça-Feira\")\n",
        "elif dia_semana == 2:\n",
        "  print(\"Quarta-Feira\")\n",
        "elif dia_semana == 3:\n",
        "  print(\"Quinta-Feira\")\n",
        "elif dia_semana == 4:\n",
        "  print(\"Sexta-Feira\")\n",
        "elif dia_semana == 5:\n",
        "  print(\"Sábado\")\n",
        "else: \n",
        "  print(\"Domingo\")"
      ],
      "metadata": {
        "colab": {
          "base_uri": "https://localhost:8080/"
        },
        "id": "pCsWAs_eo6Rk",
        "outputId": "c1011860-1203-41cd-8add-c5e5006ec4ab"
      },
      "execution_count": null,
      "outputs": [
        {
          "output_type": "stream",
          "name": "stdout",
          "text": [
            "Digite o dia: 30\n",
            "Digite o mês: 3\n",
            "Digite o ano: 2023\n",
            "Quinta-Feira\n"
          ]
        }
      ]
    },
    {
      "cell_type": "markdown",
      "source": [
        "#6.Validação de Dados"
      ],
      "metadata": {
        "id": "rcePKpcfrA2h"
      }
    },
    {
      "cell_type": "code",
      "source": [
        "nome = input(\"Digite um nome: \")\n",
        "idade = int(input(\"Digite a idade: \"))\n",
        "salario = float(input(\"Digite o salário: \"))\n",
        "\n",
        "if len(nome) > 3 and (idade >=0 and idade<= 150) and salario > 0:\n",
        "  print(\"Dados Válidos\\n\")\n",
        "  print(\"Nome: \",nome,\"\\n\")\n",
        "  print(\"Idade: \",idade,\"\\n\")\n",
        "  print(\"salario: \",salario,\"\\n\")\n",
        "else:\n",
        "  if len(nome)<= 3:\n",
        "    nome = \"Incorreto\"\n",
        "  if not (idade >=0 and idade<= 150):\n",
        "    idade = str(\"Incorreta\")\n",
        "  if salario <= 0:\n",
        "    salario = str(\"Incorreto\")\n",
        "  print(\"Dados Incorretos\\n\")\n",
        "  print(\"Nome: \",nome,\"\\n\")\n",
        "  print(\"Idade: \",idade,\"\\n\")\n",
        "  print(\"salario: \",salario,\"\\n\")  "
      ],
      "metadata": {
        "colab": {
          "base_uri": "https://localhost:8080/"
        },
        "id": "_4BdaAVgrGS2",
        "outputId": "e3e6da5b-c956-401e-dc6d-8e69b5ffc463"
      },
      "execution_count": null,
      "outputs": [
        {
          "output_type": "stream",
          "name": "stdout",
          "text": [
            "Digite um nome: Taty\n",
            "Digite a idade: 36\n",
            "Digite o salário: 1000\n",
            "Dados Válidos\n",
            "\n",
            "Nome:  Taty \n",
            "\n",
            "Idade:  36 \n",
            "\n",
            "salario:  1000.0 \n",
            "\n"
          ]
        }
      ]
    },
    {
      "cell_type": "markdown",
      "source": [
        "#7. Palíndromo"
      ],
      "metadata": {
        "id": "GrUfHbdUuhDm"
      }
    },
    {
      "cell_type": "code",
      "source": [
        "palavra = input(\"Digite uma Palavra ou Frase: \")\n",
        "verifica_palindromo = palavra.upper().replace(\" \",\"\")\n",
        "rev = ''.join(reversed(verifica_palindromo))\n",
        "#print(rev,\"\\n\")\n",
        "\n",
        "if verifica_palindromo == rev:\n",
        "  print(\"Palíndromo\")\n",
        "else:\n",
        "  print(\"Não é Palíndromo\")\n"
      ],
      "metadata": {
        "colab": {
          "base_uri": "https://localhost:8080/"
        },
        "id": "PUJ5yfBhuuhq",
        "outputId": "2af10b9f-3cf7-4616-e09e-378e1380b22e"
      },
      "execution_count": null,
      "outputs": [
        {
          "output_type": "stream",
          "name": "stdout",
          "text": [
            "Digite uma Palavra ou Frase: oVO\n",
            "OVO\n",
            "Palíndromo\n"
          ]
        }
      ]
    },
    {
      "cell_type": "markdown",
      "source": [],
      "metadata": {
        "id": "iP2ZO7FGurC2"
      }
    },
    {
      "cell_type": "markdown",
      "source": [],
      "metadata": {
        "id": "IOFvo9QM0oDW"
      }
    },
    {
      "cell_type": "markdown",
      "source": [
        "#8.Suspeito"
      ],
      "metadata": {
        "id": "nPVM3Kdv0pae"
      }
    },
    {
      "cell_type": "code",
      "source": [
        "q1 = input(\"Telefonou para a vítima?\")\n",
        "q2 = input(\"Esteve no local do crime?\")\n",
        "q3 = input(\"Mora perto da vítima?\")\n",
        "q4 = input(\"Devia para a vítima?\")\n",
        "q5 = input(\"Já trabalhou com a vítima?\")\n",
        "\n",
        "r_positiva = 0\n",
        "if q1.upper() == 'S':\n",
        "  r_positiva+=1 #r_positiva = r_positiva +1\n",
        "if q2.upper() == 'S':\n",
        "  r_positiva+=1 #r_positiva = r_positiva +1\n",
        "if q3.upper() == 'S':\n",
        "  r_positiva+=1 #r_positiva = r_positiva +1\n",
        "if q4.upper() == 'S':\n",
        "  r_positiva+=1 #r_positiva = r_positiva +1\n",
        "if q5.upper() == 'S':\n",
        "  r_positiva+=1 #r_positiva = r_positiva +1\n",
        "\n",
        "if r_positiva == 2:\n",
        "  print(\"Supeita\")\n",
        "elif r_positiva >=3 and r_positiva <= 4:\n",
        "  print(\"Cúmplice\")\n",
        "elif r_positiva == 5:\n",
        "  print(\"Assassino\")\n",
        "else:\n",
        "   print(\"Inocente\")\n",
        "\n"
      ],
      "metadata": {
        "colab": {
          "base_uri": "https://localhost:8080/"
        },
        "id": "8m3_hqdD0zqj",
        "outputId": "566259d7-6ab6-4d82-bb9d-a9b81bc1d431"
      },
      "execution_count": null,
      "outputs": [
        {
          "output_type": "stream",
          "name": "stdout",
          "text": [
            "Telefonou para a vítima?n\n",
            "Esteve no local do crime?n\n",
            "Mora perto da vítima?n\n",
            "Devia para a vítima?n\n",
            "Já trabalhou com a vítima?n\n",
            "Inocente\n"
          ]
        }
      ]
    },
    {
      "cell_type": "markdown",
      "source": [
        "#9. jogo Palavra Embaralhada"
      ],
      "metadata": {
        "id": "8zS7vyPz5GUZ"
      }
    },
    {
      "cell_type": "code",
      "source": [
        "palavra = \"ROSA\"\n",
        "palavra_embaralhada = ''.join(reversed(palavra))\n",
        "tentativas = 0\n",
        "acertou = False\n",
        "print(palavra_embaralhada)\n",
        "\n",
        "while tentativas < 6 and not acertou:\n",
        "  palavra_informada = input(\"Digite uma palavra: \")\n",
        "  if palavra_informada.upper() == palavra:\n",
        "    print(\"Acertou!!\")\n",
        "    acertou = True\n",
        "  tentativas+=1 # tentativas = tentativas + 1\n",
        "if not acertou:\n",
        "  print(\"Errou!\")\n"
      ],
      "metadata": {
        "id": "zxbblah55Ncg",
        "outputId": "f4fe9e78-b137-45ce-b7ab-a8cba026ef3c",
        "colab": {
          "base_uri": "https://localhost:8080/"
        }
      },
      "execution_count": 1,
      "outputs": [
        {
          "output_type": "stream",
          "name": "stdout",
          "text": [
            "ASOR\n",
            "Digite uma palavra: flor\n",
            "Digite uma palavra: rosa\n",
            "Acertou!!\n"
          ]
        }
      ]
    },
    {
      "cell_type": "markdown",
      "source": [
        "#10. Caixa Eletrônico"
      ],
      "metadata": {
        "id": "DwfTa5oQ5OI9"
      }
    },
    {
      "cell_type": "code",
      "source": [
        "valor_sacar = int(input(\"Digite o valor que você quer sacar[10-600]: \"))\n",
        "#1,5,10,50,100\n",
        "\n",
        "if valor_sacar >=10 and valor_sacar <= 600:\n",
        "  cem = int(valor_sacar/100)\n",
        "  valor_sacar = valor_sacar % 100 \n",
        "\n",
        "  cinquenta = int(valor_sacar/50)\n",
        "  valor_sacar = valor_sacar % 50\n",
        "\n",
        "  dez = int(valor_sacar/10)\n",
        "  valor_sacar = valor_sacar % 10\n",
        "\n",
        "  cinco = int(valor_sacar/5)\n",
        "  valor_sacar = valor_sacar % 5\n",
        "\n",
        "  um = valor_sacar\n",
        "\n",
        "  print(\"Quantidade de Notas de 100 =  \",cem,\"\\n\")\n",
        "  print(\"Quantidade de Notas de 50 =  \",cinquenta,\"\\n\")\n",
        "  print(\"Quantidade de Notas de 10 =  \",dez,\"\\n\")\n",
        "  print(\"Quantidade de Notas de 5 =  \",cinco,\"\\n\")\n",
        "  print(\"Quantidade de Notas de 1 =  \",um,\"\\n\")\n",
        "\n",
        "else:\n",
        "  print(\"Valor fora da faixa entre 10-600\")"
      ],
      "metadata": {
        "colab": {
          "base_uri": "https://localhost:8080/"
        },
        "id": "bJXROuWZ5TC8",
        "outputId": "b9648d4e-09b4-46f9-ae39-fd529b01f183"
      },
      "execution_count": null,
      "outputs": [
        {
          "output_type": "stream",
          "name": "stdout",
          "text": [
            "Digite o valor que você quer sacar[10-600]: 499\n",
            "Quantidade de Notas de 100 =   4 \n",
            "\n",
            "Quantidade de Notas de 50 =   1 \n",
            "\n",
            "Quantidade de Notas de 10 =   4 \n",
            "\n",
            "Quantidade de Notas de 5 =   1 \n",
            "\n",
            "Quantidade de Notas de 1 =   4 \n",
            "\n"
          ]
        }
      ]
    },
    {
      "cell_type": "markdown",
      "source": [
        "#11 Verificação do CPF"
      ],
      "metadata": {
        "id": "OoOS9L-U7wy9"
      }
    },
    {
      "cell_type": "code",
      "source": [
        "#aula de vetores"
      ],
      "metadata": {
        "id": "2-bsKUVH75w0"
      },
      "execution_count": null,
      "outputs": []
    },
    {
      "cell_type": "markdown",
      "source": [
        "#12 Nome e Sobrenome"
      ],
      "metadata": {
        "id": "Yehpa9AH8TMV"
      }
    },
    {
      "cell_type": "code",
      "source": [
        "#aula de lista"
      ],
      "metadata": {
        "id": "L51cQU068V_8"
      },
      "execution_count": null,
      "outputs": []
    }
  ]
}