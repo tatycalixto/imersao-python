{
  "nbformat": 4,
  "nbformat_minor": 0,
  "metadata": {
    "colab": {
      "provenance": [],
      "authorship_tag": "ABX9TyOnAizYYIl1GgbcYIsL6if+",
      "include_colab_link": true
    },
    "kernelspec": {
      "name": "python3",
      "display_name": "Python 3"
    },
    "language_info": {
      "name": "python"
    }
  },
  "cells": [
    {
      "cell_type": "markdown",
      "metadata": {
        "id": "view-in-github",
        "colab_type": "text"
      },
      "source": [
        "<a href=\"https://colab.research.google.com/github/tatycalixto/imersao-python/blob/main/Lista_Exercicio_Aula_06.ipynb\" target=\"_parent\"><img src=\"https://colab.research.google.com/assets/colab-badge.svg\" alt=\"Open In Colab\"/></a>"
      ]
    },
    {
      "cell_type": "markdown",
      "source": [
        "# 1. Imprimir 1"
      ],
      "metadata": {
        "id": "hVqxJAieYCHg"
      }
    },
    {
      "cell_type": "code",
      "execution_count": 4,
      "metadata": {
        "colab": {
          "base_uri": "https://localhost:8080/"
        },
        "id": "egcjucsbIs5M",
        "outputId": "f8b68c38-3383-4595-b113-d77ca7dd7ff4"
      },
      "outputs": [
        {
          "output_type": "stream",
          "name": "stdout",
          "text": [
            "1 \n",
            "2 2 \n",
            "3 3 3 \n",
            "4 4 4 4 \n",
            "5 5 5 5 5 \n",
            "6 6 6 6 6 6 \n",
            "7 7 7 7 7 7 7 \n",
            "8 8 8 8 8 8 8 8 \n",
            "9 9 9 9 9 9 9 9 9 \n",
            "10 10 10 10 10 10 10 10 10 10 \n"
          ]
        }
      ],
      "source": [
        "def imprimir(n):\n",
        "  for i in range(1,n+1):\n",
        "    print((str(i) + ' ')* i)\n",
        "\n",
        "imprimir(10)\n"
      ]
    },
    {
      "cell_type": "markdown",
      "source": [
        "# 2. Imprimir 2"
      ],
      "metadata": {
        "id": "5YyoZiteZEbM"
      }
    },
    {
      "cell_type": "code",
      "source": [
        "def imprimir_segundo(n):\n",
        "  for i in range(1,n+1):\n",
        "    for j in range(1, i + 1):\n",
        "      print(j, end = ' ')\n",
        "    print(\"\\n\")\n",
        "\n",
        "imprimir_segundo(5)\n",
        "\n"
      ],
      "metadata": {
        "colab": {
          "base_uri": "https://localhost:8080/"
        },
        "id": "0cmaWgV5ZHDD",
        "outputId": "7d733c23-39bb-4f0c-803f-f5367c935d6d"
      },
      "execution_count": 8,
      "outputs": [
        {
          "output_type": "stream",
          "name": "stdout",
          "text": [
            "1 \n",
            "\n",
            "1 2 \n",
            "\n",
            "1 2 3 \n",
            "\n",
            "1 2 3 4 \n",
            "\n",
            "1 2 3 4 5 \n",
            "\n"
          ]
        }
      ]
    },
    {
      "cell_type": "markdown",
      "source": [
        "#3. Pagar Conta"
      ],
      "metadata": {
        "id": "XHULW5zQZ_kU"
      }
    },
    {
      "cell_type": "code",
      "source": [
        "def valor_pagamento(valor,dias_atraso):\n",
        "  if dias_atraso == 0:\n",
        "    return valor \n",
        "  else:\n",
        "    multa = valor * 0.03\n",
        "    juros = valor * (0.001 * dias_atraso)\n",
        "    valor_total = valor + multa + juros\n",
        "    return valor_total\n",
        "\n",
        "def entrada_dados():\n",
        "  valor_total_pago = total_prestacoes = 0\n",
        "  while True:\n",
        "    valor_prestacao = float(input(\"Digite o valor da prestação (para sair digite 0) \"))\n",
        "    \n",
        "    if valor_prestacao == 0:\n",
        "      break\n",
        "\n",
        "    dias_atraso = int(input(\"Digite o número de dias de atraso do pagamento: \"))\n",
        "    valor_a_pagar = valor_pagamento(valor_prestacao,dias_atraso)\n",
        "    total_prestacoes+= 1 # total_prestacoes = total_prestacoes+1\n",
        "    valor_total_pago+= valor_a_pagar # valor_total_pago = valor_total_pago + valor_a_pagar\n",
        "\n",
        "    print(f\" Valor a ser pago R$ {valor_a_pagar:.2f}\")\n",
        "\n",
        "  print(f\" Relatório do dia: {total_prestacoes} prestações pagas, total pago R$ {valor_total_pago:.2f}\")\n",
        "\n",
        "entrada_dados()\n",
        "\n"
      ],
      "metadata": {
        "colab": {
          "base_uri": "https://localhost:8080/"
        },
        "id": "lBWg9tF3aC16",
        "outputId": "e610f84b-c9e2-4cc9-8b3a-3078c056fc4c"
      },
      "execution_count": 11,
      "outputs": [
        {
          "output_type": "stream",
          "name": "stdout",
          "text": [
            "Digite o valor da prestação (para sair digite 0) 100\n",
            "Digite o número de dias de atraso do pagamento: 2\n",
            " Valor a ser pago R$ 103.20\n",
            "Digite o valor da prestação (para sair digite 0) 100\n",
            "Digite o número de dias de atraso do pagamento: 3\n",
            " Valor a ser pago R$ 103.30\n",
            "Digite o valor da prestação (para sair digite 0) 0\n",
            " Relatório do dia: 2 pretações pagas, total pagos R$ 206.50\n"
          ]
        }
      ]
    },
    {
      "cell_type": "markdown",
      "source": [
        "#6. Conta do restaurante"
      ],
      "metadata": {
        "id": "vv-HjSlreLcJ"
      }
    },
    {
      "cell_type": "code",
      "source": [
        "def calcular_gorjeta(valor_conta,percentual_gorjeta):\n",
        "  gorjeta = valor_conta * (percentual_gorjeta/100)\n",
        "  valor_total = valor_conta + gorjeta\n",
        "  return gorjeta,valor_total\n",
        "\n",
        "def iniciar_programa():\n",
        "  valor_conta = float(input(\"Digite o valor da conta: \"))\n",
        "  percentual_gorjeta = float(input(\"Digite o percentual a gorjeta: \"))\n",
        "  gorjeta,valor_total = calcular_gorjeta(valor_conta,percentual_gorjeta)\n",
        "  print(f\"Gorjeta do garçom R$ {gorjeta:.2f}\")\n",
        "  print(f\"Valor total da conta R$ {valor_total:.2f}\")\n",
        "  dividir_conta(valor_total)\n",
        "\n",
        "def dividir_conta(valor_total):\n",
        "  dividir_conta = input(\"Deseja dividir a conta? (s/n): \")\n",
        "  if dividir_conta.lower() == 's':\n",
        "    num_pessoas = int(input(\"Digite a quantidade de pessoas para dividir a conta: \"))\n",
        "    valor_por_pessoa = valor_total/num_pessoas\n",
        "    print(f\"Valor por pessoa é R$ {valor_por_pessoa:.2f}\")\n",
        "\n",
        "iniciar_programa()"
      ],
      "metadata": {
        "colab": {
          "base_uri": "https://localhost:8080/"
        },
        "id": "SCMkW8Tkee5O",
        "outputId": "5121ec6a-9b86-494e-c12c-ba53513ffaa9"
      },
      "execution_count": 12,
      "outputs": [
        {
          "output_type": "stream",
          "name": "stdout",
          "text": [
            "Digite o valor da conta: 100\n",
            "Digite o percentual a gorjeta: 10\n",
            "Gorjeta do garçom R$ 10.00\n",
            "Valor total da conta R$ 110.00\n",
            "Deseja dividir a conta? (s/n): s\n",
            "Digite a quantidade de pessoas para dividir a conta: 2\n",
            "Valor por pessoas é R$ 55.00\n"
          ]
        }
      ]
    },
    {
      "cell_type": "markdown",
      "source": [
        "#8. Jokenpo (pedra, papel, tesoura)"
      ],
      "metadata": {
        "id": "f6ArM_d0iiol"
      }
    },
    {
      "cell_type": "code",
      "source": [
        "from pickle import TRUE\n",
        "import random\n",
        "jokenpo_ = [\"pedra\",\"papel\",\"tesoura\"]\n",
        "\n",
        "def validar_escolha(escolha):\n",
        "  if escolha.lower() not in jokenpo_:\n",
        "    return False\n",
        "  return True\n",
        "\n",
        "def verificar_vencedor(escolha_jogador,escolha_computador):\n",
        "  if escolha_jogador == escolha_computador:\n",
        "    return \"Empate\"\n",
        "  elif (escolha_jogador == 'pedra' and escolha_computador ==\"tesoura\") or \\\n",
        "       (escolha_jogador == \"tesoura\" and escolha_computador == \"papel\") or\\\n",
        "       (escolha_jogador == \"papel\" and escolha_computador == \"pedra\" ):\n",
        "      return \"Jogador\"\n",
        "  else:\n",
        "    return \"Computador\"\n",
        "\n",
        "def jokenpo():\n",
        " \n",
        "  while True:\n",
        "    escolha_jogador = input(\"Escolha entre  pedra, papel e tesoura: \")\n",
        "    while not validar_escolha(escolha_jogador):\n",
        "      escolha_jogador = input(\"Escolha incorreta. Escolha entre  pedra, papel e tesoura: \")\n",
        "    \n",
        "    escolha_computador = random.choice(jokenpo_) \n",
        "\n",
        "    vencedor = verificar_vencedor(escolha_jogador,escolha_computador)\n",
        "    \n",
        "    print(f\"Jogador escolheu {escolha_jogador} o computador escolheu {escolha_computador}\")\n",
        "    if vencedor == \"Empate\":\n",
        "      print(\"Empate! Vamos jogar novamente! o/ \")\n",
        "    else:\n",
        "      print(f\"O vencedor é: {vencedor}\")\n",
        "      break\n",
        "\n",
        "jokenpo()"
      ],
      "metadata": {
        "colab": {
          "base_uri": "https://localhost:8080/"
        },
        "id": "W0a7EtRdinPQ",
        "outputId": "f9da35a0-2b7f-443b-bb8c-9b8756458aa6"
      },
      "execution_count": 14,
      "outputs": [
        {
          "output_type": "stream",
          "name": "stdout",
          "text": [
            "Escolha entre  pedra, papel e tesoura: tesoura\n",
            "Jogador escolheu tesoura o computador escolheu tesoura\n",
            "Empate! Vamos jogar novamente! o/ \n",
            "Escolha entre  pedra, papel e tesoura: tesoura\n",
            "Jogador escolheu tesoura o computador escolheu tesoura\n",
            "Empate! Vamos jogar novamente! o/ \n",
            "Escolha entre  pedra, papel e tesoura: tesoura\n",
            "Jogador escolheu tesoura o computador escolheu papel\n",
            "O vencedor é: Jogador\n"
          ]
        }
      ]
    }
  ]
}