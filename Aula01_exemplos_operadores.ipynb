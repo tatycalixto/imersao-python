{
  "nbformat": 4,
  "nbformat_minor": 0,
  "metadata": {
    "colab": {
      "provenance": [],
      "authorship_tag": "ABX9TyPAscNOiQbWFrDPwb1MLxRv",
      "include_colab_link": true
    },
    "kernelspec": {
      "name": "python3",
      "display_name": "Python 3"
    },
    "language_info": {
      "name": "python"
    }
  },
  "cells": [
    {
      "cell_type": "markdown",
      "metadata": {
        "id": "view-in-github",
        "colab_type": "text"
      },
      "source": [
        "<a href=\"https://colab.research.google.com/github/tatycalixto/imersao-python/blob/main/Aula01_exemplos_operadores.ipynb\" target=\"_parent\"><img src=\"https://colab.research.google.com/assets/colab-badge.svg\" alt=\"Open In Colab\"/></a>"
      ]
    },
    {
      "cell_type": "markdown",
      "source": [
        "#Operadores Aritméticos, Lógicos e Relacionais"
      ],
      "metadata": {
        "id": "cER799M4iabK"
      }
    },
    {
      "cell_type": "code",
      "execution_count": 3,
      "metadata": {
        "colab": {
          "base_uri": "https://localhost:8080/"
        },
        "id": "CSJQF59TfMKy",
        "outputId": "4d7f8080-0a4a-4e8d-cd90-cd874f91da1b"
      },
      "outputs": [
        {
          "output_type": "stream",
          "name": "stdout",
          "text": [
            "7\n",
            "3\n",
            "10\n",
            "2.5\n",
            "2\n",
            "1\n",
            "25\n"
          ]
        }
      ],
      "source": [
        "numero1 = 5\n",
        "numero2 = 2\n",
        "\n",
        "print(numero1 + numero2)\n",
        "print(numero1 -  numero2)\n",
        "print(numero1 * numero2)\n",
        "print(numero1 / numero2)\n",
        "print(numero1 // numero2)\n",
        "print(numero1 % numero2)\n",
        "print(numero1 ** numero2)\n"
      ]
    },
    {
      "cell_type": "code",
      "source": [
        "numero1 = 6\n",
        "numero2 = 3\n",
        "\n",
        "print(numero1 < numero2)\n",
        "print(numero1 > numero2)\n",
        "print(numero1 <= numero2)\n",
        "print(numero1 <= numero2)\n",
        "print(numero1 == numero2)\n",
        "print(numero1 != numero2)"
      ],
      "metadata": {
        "colab": {
          "base_uri": "https://localhost:8080/"
        },
        "id": "A43sklcrjLA1",
        "outputId": "85b7644f-4918-4411-e493-3f66c66382cc"
      },
      "execution_count": 5,
      "outputs": [
        {
          "output_type": "stream",
          "name": "stdout",
          "text": [
            "False\n",
            "True\n",
            "False\n",
            "False\n",
            "False\n",
            "True\n"
          ]
        }
      ]
    },
    {
      "cell_type": "markdown",
      "source": [],
      "metadata": {
        "id": "ke6esK3MiZu5"
      }
    },
    {
      "cell_type": "code",
      "source": [
        "numero1 = 7\n",
        "numero2 = 8\n",
        "print((numero1 > numero2) | (numero1 != numero2))\n",
        "print((numero1 > numero2) &  (numero1 != numero2))"
      ],
      "metadata": {
        "colab": {
          "base_uri": "https://localhost:8080/"
        },
        "id": "Jr9WqnBCjwSp",
        "outputId": "18d3bf88-3b5f-4e50-84b4-07d1d6c72c2c"
      },
      "execution_count": 8,
      "outputs": [
        {
          "output_type": "stream",
          "name": "stdout",
          "text": [
            "True\n",
            "False\n"
          ]
        }
      ]
    }
  ]
}