{
  "nbformat": 4,
  "nbformat_minor": 0,
  "metadata": {
    "colab": {
      "provenance": [],
      "authorship_tag": "ABX9TyOxcF06+TRIQ7/g1ooxeKAy",
      "include_colab_link": true
    },
    "kernelspec": {
      "name": "python3",
      "display_name": "Python 3"
    },
    "language_info": {
      "name": "python"
    }
  },
  "cells": [
    {
      "cell_type": "markdown",
      "metadata": {
        "id": "view-in-github",
        "colab_type": "text"
      },
      "source": [
        "<a href=\"https://colab.research.google.com/github/tatycalixto/imersao-python/blob/main/Exemplo_Vetores.ipynb\" target=\"_parent\"><img src=\"https://colab.research.google.com/assets/colab-badge.svg\" alt=\"Open In Colab\"/></a>"
      ]
    },
    {
      "cell_type": "code",
      "execution_count": 2,
      "metadata": {
        "colab": {
          "base_uri": "https://localhost:8080/"
        },
        "id": "P-BXYS9u_QY-",
        "outputId": "c72739f9-7e16-4799-a207-38fab9f1a18b"
      },
      "outputs": [
        {
          "output_type": "stream",
          "name": "stdout",
          "text": [
            "Digite a nota do aluno: 5.5\n",
            "Digite a nota do aluno: 6\n",
            "Digite a nota do aluno: 10\n",
            "Digite a nota do aluno: 4.5\n",
            "Digite a nota do aluno: 7.5\n",
            "A média é:  6.7\n",
            "índice:  0\n",
            "Elemento:  5.5 \n",
            "\n",
            "índice:  1\n",
            "Elemento:  6.0 \n",
            "\n",
            "índice:  2\n",
            "Elemento:  10.0 \n",
            "\n",
            "A nota  10.0  foi maior que a média\n",
            "\n",
            "índice:  3\n",
            "Elemento:  4.5 \n",
            "\n",
            "índice:  4\n",
            "Elemento:  7.5 \n",
            "\n",
            "A nota  7.5  foi maior que a média\n",
            "\n"
          ]
        }
      ],
      "source": [
        "notas = []\n",
        "for i in range(5):\n",
        "  notas.append(float(input(\"Digite a nota do aluno: \")))\n",
        "\n",
        "media = sum(notas)/5\n",
        "print(\"A média é: \",media)\n",
        "\n",
        "for i in range(5):#0,1,2,3,4\n",
        "  print(\"índice: \",i)\n",
        "  print(\"Elemento: \",notas[i],\"\\n\")\n",
        "  if notas[i] > media:\n",
        "    print(\"A nota \", notas[i], \" foi maior que a média\\n\")"
      ]
    },
    {
      "cell_type": "code",
      "source": [
        "numeros = []\n",
        "cont = 0\n",
        "\n",
        "for i in range(5):\n",
        "  numeros.append(int(input(\"Digite um número: \")))\n",
        "\n",
        "print(\"\\n\",numeros)\n",
        "\n",
        "for i in range(5):\n",
        "  if numeros[i] % 2 !=0:\n",
        "    cont+=1 #cont = cont + 1\n",
        "\n",
        "print(\"O menor número: \",min(numeros),\"\\n\")\n",
        "print(\"O menor número: \",max(numeros),\"\\n\")\n",
        "print(\"A quantidade de números ímpares: \",cont,\"\\n\")\n",
        "\n"
      ],
      "metadata": {
        "colab": {
          "base_uri": "https://localhost:8080/"
        },
        "id": "Xt-Cm4XaIvmG",
        "outputId": "50ac6b03-4dde-4554-c856-5723b127f1a5"
      },
      "execution_count": 3,
      "outputs": [
        {
          "output_type": "stream",
          "name": "stdout",
          "text": [
            "Digite um número: 10\n",
            "Digite um número: 11\n",
            "Digite um número: 20\n",
            "Digite um número: 3\n",
            "Digite um número: 1\n",
            "\n",
            " [10, 11, 20, 3, 1]\n",
            "O menor número:  1 \n",
            "\n",
            "O menor número:  20 \n",
            "\n",
            "A quantidade de números ímpares:  3 \n",
            "\n"
          ]
        }
      ]
    }
  ]
}