{
  "nbformat": 4,
  "nbformat_minor": 0,
  "metadata": {
    "colab": {
      "provenance": [],
      "authorship_tag": "ABX9TyNY3zwfnvsWuFSmg6s+No3w",
      "include_colab_link": true
    },
    "kernelspec": {
      "name": "python3",
      "display_name": "Python 3"
    },
    "language_info": {
      "name": "python"
    }
  },
  "cells": [
    {
      "cell_type": "markdown",
      "metadata": {
        "id": "view-in-github",
        "colab_type": "text"
      },
      "source": [
        "<a href=\"https://colab.research.google.com/github/tatycalixto/imersao-python/blob/main/Lista_Exercicio_Aula_04.ipynb\" target=\"_parent\"><img src=\"https://colab.research.google.com/assets/colab-badge.svg\" alt=\"Open In Colab\"/></a>"
      ]
    },
    {
      "cell_type": "markdown",
      "source": [
        "# 1. Temperatura\n"
      ],
      "metadata": {
        "id": "e7pvy92QNnol"
      }
    },
    {
      "cell_type": "code",
      "execution_count": 1,
      "metadata": {
        "colab": {
          "base_uri": "https://localhost:8080/"
        },
        "id": "jQ6JQqYHMaqB",
        "outputId": "f94e7fbe-37ad-4be7-d5c9-91949309298d"
      },
      "outputs": [
        {
          "output_type": "stream",
          "name": "stdout",
          "text": [
            "Digite a temperatura: 20\n",
            "Digite a temperatura: 35.5\n",
            "Digite a temperatura: 30\n",
            "Digite a temperatura: 28\n",
            "Digite a temperatura: 22\n",
            "Digite a temperatura: 10\n",
            "Digite a temperatura: 5\n",
            "Digite a temperatura: 26\n",
            "Digite a temperatura: 27\n",
            "Digite a temperatura: 20\n",
            "Digite a temperatura: 19\n",
            "Digite a temperatura: 12\n",
            "Média de temperaturas do ano: 21.208333333333332\n",
            "Temperatura 35.5ºC do mês Fevereiro está acima da média Anual\n",
            "\n",
            "Temperatura 30.0ºC do mês Março está acima da média Anual\n",
            "\n",
            "Temperatura 28.0ºC do mês Abril está acima da média Anual\n",
            "\n",
            "Temperatura 22.0ºC do mês Maio está acima da média Anual\n",
            "\n",
            "Temperatura 26.0ºC do mês Agosto está acima da média Anual\n",
            "\n",
            "Temperatura 27.0ºC do mês Setembro está acima da média Anual\n",
            "\n"
          ]
        }
      ],
      "source": [
        "temperaturas = []\n",
        "meses = [\"Janeiro\",\"Fevereiro\",\"Março\",\"Abril\",\"Maio\",\"Junho\",\"Julho\",\"Agosto\",\"Setembro\",\"Outubro\",\"Novembro\",\"Dezembro\"]\n",
        "\n",
        "for i in range (12):\n",
        "  temperaturas.append(float(input(\"Digite a temperatura: \")))\n",
        "\n",
        "media = sum(temperaturas)/12\n",
        "print(f\"Média de temperaturas do ano: {media}\")\n",
        "\n",
        "for i in range(12):\n",
        "  if temperaturas[i] > media:\n",
        "    print(f\"Temperatura {temperaturas[i]}ºC do mês {meses[i]} está acima da média Anual\\n\")\n",
        "\n"
      ]
    },
    {
      "cell_type": "markdown",
      "source": [
        "#3. Adivinhação"
      ],
      "metadata": {
        "id": "60QdURgJPctD"
      }
    },
    {
      "cell_type": "code",
      "source": [
        "numeros  = [3,5,7,9,11]\n",
        "\n",
        "for i in range (5):\n",
        "  adivinhar_numero = int(input(\"Digite um número: \"))\n",
        "  if adivinhar_numero in numeros:\n",
        "    print(f\" Número encontrado {adivinhar_numero} na posição {numeros.index(adivinhar_numero)}\")\n",
        "    break\n",
        "  else:\n",
        "    print(\"Número Não encontrado\\n\")"
      ],
      "metadata": {
        "colab": {
          "base_uri": "https://localhost:8080/"
        },
        "id": "TajjvphXP1cE",
        "outputId": "ff6e5306-c214-4b90-b2e6-59f6e1d8caef"
      },
      "execution_count": 3,
      "outputs": [
        {
          "output_type": "stream",
          "name": "stdout",
          "text": [
            "Digite um número: 11\n",
            " Número encontrado 11 na posição 4\n"
          ]
        }
      ]
    },
    {
      "cell_type": "markdown",
      "source": [
        "#4. Idioma"
      ],
      "metadata": {
        "id": "gapkEGcNQ6AY"
      }
    },
    {
      "cell_type": "code",
      "source": [
        "paises = [\"JAPÃO\",\"BRASIL\",\"FRANÇA\",\"CANADÁ\",\"ÁFRICA DO SUL\",\"PORTUGAL\",\"HOLANDA\",\"AUSTRÁLIA\"]\n",
        "idiomas = [\"japonês\",\"português\",\"francês\",\"francês,inglês\",\"inglês,zulu,xhosa\",\"português\",\"dutch,inglês,papiamento\",\"inglês,italiano\"]\n",
        "\n",
        "for i in range(9):\n",
        "  print(f\"Digite um país dessa lista {paises} para saber o idioma oficial: \")\n",
        "  procurar_idioma = input(\" \")\n",
        "  procurar_idioma = procurar_idioma.upper()\n",
        "  if procurar_idioma in paises:\n",
        "    print(f\"O país {procurar_idioma} possui o idioma {idiomas[paises.index(procurar_idioma)]}\")\n",
        "    break\n",
        "  else:\n",
        "    print(\"País não está na lista:\")\n"
      ],
      "metadata": {
        "colab": {
          "base_uri": "https://localhost:8080/"
        },
        "id": "Bz_f2rAYRFgO",
        "outputId": "7f55fe72-d011-4be6-d917-f4559d55b438"
      },
      "execution_count": 6,
      "outputs": [
        {
          "output_type": "stream",
          "name": "stdout",
          "text": [
            "Digite um país dessa lista ['JAPÃO', 'BRASIL', 'FRANÇA', 'CANADÁ', 'ÁFRICA DO SUL', 'PORTUGAL', 'HOLANDA', 'AUSTRÁLIA'] para saber o idioma oficial: \n",
            " Itália\n",
            "País não está na lista\n",
            "Digite um país dessa lista ['JAPÃO', 'BRASIL', 'FRANÇA', 'CANADÁ', 'ÁFRICA DO SUL', 'PORTUGAL', 'HOLANDA', 'AUSTRÁLIA'] para saber o idioma oficial: \n",
            " brasil\n",
            "O país BRASIL possui o idioma português\n"
          ]
        }
      ]
    },
    {
      "cell_type": "markdown",
      "source": [
        "#4. Idiomas (Usando dicionário)"
      ],
      "metadata": {
        "id": "0GO8pNYOXRV6"
      }
    },
    {
      "cell_type": "code",
      "source": [
        "idiomas ={\n",
        "    'JAPÃO':'Japonês',\n",
        "    'BRASIL':'Português',\n",
        "    'FRANÇA':'Francês',\n",
        "    'CANADÁ': 'Francês, Inglês',\n",
        "    'ÁFRICADO DO SUL':'Inglês, Zulu, Xhosa',\n",
        "    'PORTUGAL':'Português',\n",
        "    'HOLANDA': 'Dutch, Inglês, Papiamento',\n",
        "    'AUSTRÁLIA': 'Inglês, Italiano'}\n",
        "\n",
        "procurar_idioma = input(\"Digite um nome de um país: \")\n",
        "procurar_idioma = procurar_idioma.upper()\n",
        "if procurar_idioma in idiomas:\n",
        "  print(f\"Idioma {idiomas[procurar_idioma]} do pais {procurar_idioma}\")\n",
        "else:\n",
        "  print('O país informado não está na lista')\n"
      ],
      "metadata": {
        "colab": {
          "base_uri": "https://localhost:8080/"
        },
        "id": "GmAD2T4EVUlw",
        "outputId": "80580e44-c684-434a-f235-b5af76cc1a42"
      },
      "execution_count": 8,
      "outputs": [
        {
          "output_type": "stream",
          "name": "stdout",
          "text": [
            "Digite um nome de um país: eua\n",
            "O país informado não está na lista\n"
          ]
        }
      ]
    },
    {
      "cell_type": "markdown",
      "source": [
        "#5. Carros"
      ],
      "metadata": {
        "id": "amYW2-usX8cq"
      }
    },
    {
      "cell_type": "code",
      "source": [
        "carros = []\n",
        "consumos = []\n",
        "\n",
        "for i in range (1,6):\n",
        "  print(f\"Veículo{i}: \")\n",
        "  carros.append(input(\"Digite o modelo do carro: \"))\n",
        "  consumos.append(float(input(\"Km por litro: \")))\n",
        "\n",
        "print(\"Relatório Final\\n\")\n",
        "menor = cont = gasto = custo = 0\n",
        "modelo_economico = ''\n",
        "\n",
        "for c in carros:\n",
        "  custo = 1000/consumos[cont]\n",
        "  gasto = custo * 5.51\n",
        "  print(\"%s - %.1f - %.1f litros - R$%.2f\"%(c,consumos[cont],custo,gasto))\n",
        "  if cont == 0:\n",
        "    menor  = custo\n",
        "    modelo_economico = c\n",
        "    #print(\"Primeiro if: \",modelo_economico)\n",
        "  if custo < menor:\n",
        "    menor = custo\n",
        "    modelo_economico = c\n",
        "    #print(\"Segundo if: \",modelo_economico,\"\\n\")\n",
        "  cont+=1 # cont = cont +1\n",
        "print(\"O menor consumo é de %s\"%(modelo_economico))\n",
        "\n",
        "\n",
        "\n",
        "\n"
      ],
      "metadata": {
        "colab": {
          "base_uri": "https://localhost:8080/"
        },
        "id": "GJTOe7EcYAW-",
        "outputId": "aae5a756-3e3c-43ba-efa7-3e0f05dbcd3c"
      },
      "execution_count": 11,
      "outputs": [
        {
          "output_type": "stream",
          "name": "stdout",
          "text": [
            "Veículo1: \n",
            "Digite o modelo do carro: fusca\n",
            "Km por litro: 7\n",
            "Veículo2: \n",
            "Digite o modelo do carro: gol\n",
            "Km por litro: 10\n",
            "Veículo3: \n",
            "Digite o modelo do carro: uno\n",
            "Km por litro: 12.5\n",
            "Veículo4: \n",
            "Digite o modelo do carro: vectra\n",
            "Km por litro: 9\n",
            "Veículo5: \n",
            "Digite o modelo do carro: peugeout\n",
            "Km por litro: 14.5\n",
            "Relatório Final\n",
            "\n",
            "fusca - 7.0 - 142.9 litros - R$787.14\n",
            "Primeiro if:  fusca\n",
            "gol - 10.0 - 100.0 litros - R$551.00\n",
            "Segundo if:  gol \n",
            "\n",
            "uno - 12.5 - 80.0 litros - R$440.80\n",
            "Segundo if:  uno \n",
            "\n",
            "vectra - 9.0 - 111.1 litros - R$612.22\n",
            "peugeout - 14.5 - 69.0 litros - R$380.00\n",
            "Segundo if:  peugeout \n",
            "\n",
            "O menor consumo é de peugeout\n"
          ]
        }
      ]
    }
  ]
}