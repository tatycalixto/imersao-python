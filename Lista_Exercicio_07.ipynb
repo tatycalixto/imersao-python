{
  "nbformat": 4,
  "nbformat_minor": 0,
  "metadata": {
    "colab": {
      "provenance": [],
      "authorship_tag": "ABX9TyN7fBC1oatX5knzcuFCVNcI",
      "include_colab_link": true
    },
    "kernelspec": {
      "name": "python3",
      "display_name": "Python 3"
    },
    "language_info": {
      "name": "python"
    }
  },
  "cells": [
    {
      "cell_type": "markdown",
      "metadata": {
        "id": "view-in-github",
        "colab_type": "text"
      },
      "source": [
        "<a href=\"https://colab.research.google.com/github/tatycalixto/imersao-python/blob/main/Lista_Exercicio_07.ipynb\" target=\"_parent\"><img src=\"https://colab.research.google.com/assets/colab-badge.svg\" alt=\"Open In Colab\"/></a>"
      ]
    },
    {
      "cell_type": "code",
      "source": [
        "#1\n",
        "arquivo =open(\"ip.txt\")\n",
        "invalidos =open('invalidos.txt','w')\n",
        "validos =open('validos.txt','w')\n",
        "for linha in arquivo:\n",
        "  line =linha.strip().split('.')\n",
        "  if len(line)==4 and 1<=int(line[0])<=255:\n",
        "    p= 0\n",
        "    for i in line[1:]:\n",
        "      if 0<=int(i)<=255:\n",
        "        p+= 1\n",
        "      else:\n",
        "       invalidos.write(linha)\n",
        "      if p== 3:\n",
        "        validos.write(linha)\n",
        "  else:\n",
        "    invalidos.write(linha)\n",
        "\n",
        "invalidos.close()\n",
        "validos.close()"
      ],
      "metadata": {
        "id": "xJBpCy6OBKFB"
      },
      "execution_count": 8,
      "outputs": []
    },
    {
      "cell_type": "code",
      "execution_count": 12,
      "metadata": {
        "id": "c4neTBzaA2qq",
        "colab": {
          "base_uri": "https://localhost:8080/"
        },
        "outputId": "14edb52d-438c-4a32-94ad-2c1603134c10"
      },
      "outputs": [
        {
          "output_type": "stream",
          "name": "stdout",
          "text": [
            "O arquivo tem 16 vogais.\n"
          ]
        }
      ],
      "source": [
        "#2\n",
        "with open(\"vogais.txt\", \"r\") as arquivo:\n",
        "   \n",
        "    contador_vogais = 0\n",
        "    \n",
        "    for linha in arquivo:\n",
        "     \n",
        "        for caractere in linha:\n",
        "            if caractere.lower() in 'âãaáéeiíoôóuú':\n",
        "                contador_vogais += 1\n",
        "\n",
        "\n",
        "print(\"O arquivo tem\", contador_vogais, \"vogais.\")"
      ]
    },
    {
      "cell_type": "code",
      "source": [
        "#3\n",
        "with open(\"vogais.txt\", 'r') as arquivo_entrada:\n",
        "    \n",
        "    conteudo = arquivo_entrada.read()\n",
        "\n",
        "\n",
        "vogais = \"ãaáeéiíoôóúu\"\n",
        "vogais = vogais.lower()\n",
        "for vogal in vogais:\n",
        "    conteudo = conteudo.replace(vogal, \"*\")\n",
        "\n",
        "\n",
        "nome_arquivo_saida = input(\"Digite o nome do arquivo de saída: \")\n",
        "with open(nome_arquivo_saida, 'w') as arquivo_saida:\n",
        "    arquivo_saida.write(conteudo)\n"
      ],
      "metadata": {
        "id": "bFm5HS_DBa1h",
        "colab": {
          "base_uri": "https://localhost:8080/"
        },
        "outputId": "33b246d9-7dc9-4831-ad23-41f500c096ff"
      },
      "execution_count": 16,
      "outputs": [
        {
          "name": "stdout",
          "output_type": "stream",
          "text": [
            "Digite o nome do arquivo de saída: mod2\n"
          ]
        }
      ]
    },
    {
      "cell_type": "code",
      "source": [
        "#4\n",
        "arquivo = open(\"nomes_notas.txt\", \"r\")\n",
        "maior_nota = 0\n",
        "aluno_maior_nota = \"\"\n",
        "\n",
        "for linha in arquivo:\n",
        "  nome, nota = linha.strip().split(\"NOTA: \")\n",
        "  nota = float(nota)\n",
        "    \n",
        "    \n",
        "  if nota > maior_nota:\n",
        "    maior_nota = nota\n",
        "    aluno_maior_nota = nome\n",
        "    \n",
        "\n",
        "arquivo.close()\n",
        "\n",
        "print(f\"O aluno com a maior nota é {aluno_maior_nota} com a nota {maior_nota}.\")\n"
      ],
      "metadata": {
        "id": "gi5wEYRzBinK",
        "colab": {
          "base_uri": "https://localhost:8080/"
        },
        "outputId": "958c9377-3f09-44a6-9fcd-cf83b287d518"
      },
      "execution_count": 20,
      "outputs": [
        {
          "output_type": "stream",
          "name": "stdout",
          "text": [
            "O aluno com a maior nota é NOME: ROSA  com a nota 10.0.\n"
          ]
        }
      ]
    },
    {
      "cell_type": "code",
      "source": [
        "#5\n",
        "pessoas = {}\n",
        "\n",
        "with open(\"id_pessoas.txt\", 'r') as arquivo:\n",
        "   \n",
        "  for linha in arquivo:\n",
        "       \n",
        "    identidade, nome = linha.strip().split(\" \")\n",
        "    pessoas[identidade] = nome\n",
        "\n",
        "print(pessoas)\n"
      ],
      "metadata": {
        "id": "JMSaG6lKBtgJ",
        "colab": {
          "base_uri": "https://localhost:8080/"
        },
        "outputId": "f50b5bc4-c28d-465b-e4e1-38bb9643cfcc"
      },
      "execution_count": 22,
      "outputs": [
        {
          "output_type": "stream",
          "name": "stdout",
          "text": [
            "{'5384423': 'Manoel', '4345566': 'Alberto', '3235574': 'Mariana'}\n"
          ]
        }
      ]
    },
    {
      "cell_type": "code",
      "source": [
        "#6\n",
        "with open(\"nomes_.txt\", 'r') as arquivo_entrada:\n",
        "    nomes = [linha.strip() for linha in arquivo_entrada]\n",
        "\n",
        "nomes_ordenados = sorted(nomes)\n",
        "\n",
        "\n",
        "nome_arquivo_saida = input(\"Digite o nome do arquivo de saída: \")\n",
        "\n",
        "with open(nome_arquivo_saida, 'w') as arquivo_saida:\n",
        "    for nome in nomes_ordenados:\n",
        "        arquivo_saida.write(nome + \"\\n\")\n",
        "\n",
        "print(\"Os nomes foram ordenados e gravados no arquivo\", nome_arquivo_saida)\n"
      ],
      "metadata": {
        "id": "Ax2ZAxWTB3Kp",
        "colab": {
          "base_uri": "https://localhost:8080/"
        },
        "outputId": "bc9ba96c-5ff9-4a4a-8d17-96efd7b709e1"
      },
      "execution_count": 23,
      "outputs": [
        {
          "output_type": "stream",
          "name": "stdout",
          "text": [
            "Digite o nome do arquivo de saída: ordenado\n",
            "Os nomes foram ordenados e gravados no arquivo ordenado\n"
          ]
        }
      ]
    },
    {
      "cell_type": "code",
      "source": [
        "#7\n",
        "num_alunos = 0\n",
        "soma_notas = 0\n",
        "notas = {}\n",
        "\n",
        "# função para exibir o menu e receber a escolha do usuário\n",
        "def exibir_menu():\n",
        "    print(\"(a) Definir informações da turma\")\n",
        "    print(\"(b) Inserir aluno e notas\")\n",
        "    print(\"(c) Exibir alunos e médias\")\n",
        "    print(\"(d) Exibir alunos aprovados\")\n",
        "    print(\"(e) Exibir alunos reprovados\")\n",
        "    print(\"(f) Salvar dados em disco\")\n",
        "    print(\"(g) Sair do programa\")\n",
        "    escolha = input(\"Escolha uma opção: \")\n",
        "    return escolha\n",
        "\n",
        "# função para definir informações da turma\n",
        "def definir_turma():\n",
        "    global num_alunos, soma_notas\n",
        "    num_alunos = int(input(\"Digite o número de alunos na turma: \"))\n",
        "    soma_notas = 0\n",
        "    for i in range(num_alunos):\n",
        "        nome = input(f\"Digite o nome do aluno {i+1}: \")\n",
        "        nota = float(input(f\"Digite a nota do aluno {i+1}: \"))\n",
        "        notas[nome] = nota\n",
        "        soma_notas += nota\n",
        "\n",
        "# função para inserir notas de um novo aluno\n",
        "def inserir_notas():\n",
        "    global num_alunos, soma_notas\n",
        "    nome = input(\"Digite o nome do aluno: \")\n",
        "    nota = float(input(\"Digite a nota do aluno: \"))\n",
        "    notas[nome] = nota\n",
        "    num_alunos += 1\n",
        "    soma_notas += nota\n",
        "\n",
        "# função para exibir alunos e médias\n",
        "def exibir_medias():\n",
        "    print(\"Alunos e médias:\")\n",
        "    for nome, nota in notas.items():\n",
        "        media = nota / num_alunos\n",
        "        print(f\"{nome}: {media:.2f}\")\n",
        "\n",
        "# função para exibir alunos aprovados\n",
        "def exibir_aprovados():\n",
        "    print(\"Alunos aprovados:\")\n",
        "    for nome, nota in notas.items():\n",
        "        media = nota / num_alunos\n",
        "        if media >= 6.0:\n",
        "            print(f\"{nome}: {media:.2f}\")\n",
        "\n",
        "# função para exibir alunos reprovados\n",
        "def exibir_reprovados():\n",
        "    print(\"Alunos reprovados:\")\n",
        "    for nome, nota in notas.items():\n",
        "        media = nota / num_alunos\n",
        "        if media < 6.0:\n",
        "            print(f\"{nome}: {media:.2f}\")\n",
        "\n",
        "# função para salvar dados em txt\n",
        "def salvar_dados():\n",
        "    nome_arquivo = input(\"Digite o nome do arquivo para salvar os dados: \")\n",
        "    with open(nome_arquivo, \"w\") as f:\n",
        "        f.write(f\"Número de alunos: {num_alunos}\\n\")\n",
        "        f.write(f\"Média das notas: {soma_notas / num_alunos:.2f}\\n\")\n",
        "        for nome, nota in notas.items():\n",
        "            f.write(f\"{nome}: {nota:.2f}\\n\")\n",
        "    print(f\"Dados salvos em {nome_arquivo}\")\n",
        "\n",
        "# função principal\n",
        "def main():\n",
        "    while True:\n",
        "        escolha = exibir_menu()\n",
        "        if escolha == \"a\":\n",
        "            definir_turma()\n",
        "        elif escolha == \"b\":\n",
        "            inserir_notas()\n",
        "        elif escolha == \"c\":\n",
        "            exibir_medias()\n",
        "        elif escolha == \"d\":\n",
        "            exibir_aprovados()\n",
        "        elif escolha == \"e\":\n",
        "            exibir_reprovados()\n",
        "        elif escolha == \"f\":\n",
        "          salvar_dados()\n",
        "        elif escolha == \"g\":\n",
        "          break\n",
        "\n",
        "main()\n"
      ],
      "metadata": {
        "id": "2qMZFan7B_YR",
        "colab": {
          "base_uri": "https://localhost:8080/"
        },
        "outputId": "58663e4c-282e-44f5-b21d-131f89a302a9"
      },
      "execution_count": 29,
      "outputs": [
        {
          "name": "stdout",
          "output_type": "stream",
          "text": [
            "(a) Definir informações da turma\n",
            "(b) Inserir aluno e notas\n",
            "(c) Exibir alunos e médias\n",
            "(d) Exibir alunos aprovados\n",
            "(e) Exibir alunos reprovados\n",
            "(f) Salvar dados em disco\n",
            "(g) Sair do programa\n",
            "Escolha uma opção: b\n",
            "Digite o nome do aluno: joao\n",
            "Digite a nota do aluno: 10\n",
            "(a) Definir informações da turma\n",
            "(b) Inserir aluno e notas\n",
            "(c) Exibir alunos e médias\n",
            "(d) Exibir alunos aprovados\n",
            "(e) Exibir alunos reprovados\n",
            "(f) Salvar dados em disco\n",
            "(g) Sair do programa\n",
            "Escolha uma opção: b\n",
            "Digite o nome do aluno: fernndo\n",
            "Digite a nota do aluno: 3.5\n",
            "(a) Definir informações da turma\n",
            "(b) Inserir aluno e notas\n",
            "(c) Exibir alunos e médias\n",
            "(d) Exibir alunos aprovados\n",
            "(e) Exibir alunos reprovados\n",
            "(f) Salvar dados em disco\n",
            "(g) Sair do programa\n",
            "Escolha uma opção: f\n",
            "Digite o nome do arquivo para salvar os dados: g\n",
            "Dados salvos em g\n",
            "(a) Definir informações da turma\n",
            "(b) Inserir aluno e notas\n",
            "(c) Exibir alunos e médias\n",
            "(d) Exibir alunos aprovados\n",
            "(e) Exibir alunos reprovados\n",
            "(f) Salvar dados em disco\n",
            "(g) Sair do programa\n",
            "Escolha uma opção: g\n"
          ]
        }
      ]
    },
    {
      "cell_type": "code",
      "source": [
        "#\n"
      ],
      "metadata": {
        "id": "8Q_eM1HTCNvp"
      },
      "execution_count": 33,
      "outputs": []
    }
  ]
}